{
  "nbformat": 4,
  "nbformat_minor": 0,
  "metadata": {
    "colab": {
      "provenance": [],
      "collapsed_sections": [
        "-5X9SUMFKn1K"
      ],
      "gpuType": "T4"
    },
    "kernelspec": {
      "name": "python3",
      "display_name": "Python 3"
    },
    "language_info": {
      "name": "python"
    },
    "accelerator": "GPU"
  },
  "cells": [
    {
      "cell_type": "markdown",
      "source": [
        "#**Protpardelle-1c**\n",
        "\n",
        "Code: [GitHub](https://github.com/ProteinDesignLab/protpardelle-1c/)  \n",
        "Preprint: [bioRxiv](https://www.biorxiv.org/content/10.1101/2025.08.18.670959v2)\n",
        "\n",
        "Note: the Colab is intended for lightweight sampling. For ESMFold self-consistency and production runs, we recommend setting up the environment on a cluster."
      ],
      "metadata": {
        "id": "NLBBAf-QXjNN"
      }
    },
    {
      "cell_type": "markdown",
      "source": [
        "# Install"
      ],
      "metadata": {
        "id": "-5X9SUMFKn1K"
      }
    },
    {
      "cell_type": "code",
      "source": [
        "%%bash\n",
        "\n",
        "# Install environment\n",
        "git clone https://github.com/ProteinDesignLab/protpardelle-1c.git\n",
        "cd protpardelle-1c\n",
        "uv pip install -qq -e .\n",
        "cd /content/\n",
        "uv pip install -qq py3Dmol\n",
        "\n",
        "# Download Protpardelle-1c weights\n",
        "apt-get install aria2 -qq\n",
        "aria2c -x16 -s16 -o protpardelle-1c.tar.gz \"https://zenodo.org/records/16817230/files/protpardelle-1c.tar.gz?download=1\"\n",
        "tar -xzvf protpardelle-1c.tar.gz --strip-components=1\n",
        "rm protpardelle-1c.tar.gz\n",
        "\n",
        "# Download ESMFold weights\n",
        "mkdir -p model_params/ESMFold\n",
        "hf download facebook/esmfold_v1 --local-dir model_params/ESMFold\n",
        "\n",
        "# Download ProteinMPNN weights\n",
        "mkdir -p model_params/ProteinMPNN\n",
        "tmp=\"$(mktemp -d)\"\n",
        "repo_url=\"https://github.com/dauparas/ProteinMPNN.git\"\n",
        "branch=\"main\"\n",
        "folder=\"vanilla_model_weights\"\n",
        "\n",
        "git_ver=\"$(git --version | awk '{print $3}')\"\n",
        "IFS=. read -r M m p <<<\"$git_ver\"\n",
        ": \"${m:=0}\"\n",
        ": \"${p:=0}\"\n",
        "# Check Git version >= 2.25.0\n",
        "if ((M > 2 || (M == 2 && (m > 25 || (m == 25 && p >= 0))))); then\n",
        "    git clone --depth=1 --filter=tree:0 --sparse \"$repo_url\" \"$tmp\"\n",
        "    git -C \"$tmp\" sparse-checkout set \"$folder\"\n",
        "    git -C \"$tmp\" checkout \"$branch\"\n",
        "else\n",
        "    git clone --depth=1 --single-branch --branch \"$branch\" \"$repo_url\" \"$tmp\" \\\n",
        "        || git clone --depth=1 \"$repo_url\" \"$tmp\"\n",
        "fi\n",
        "\n",
        "mv \"$tmp/$folder\" model_params/ProteinMPNN/\n",
        "rm -rf \"$tmp\"\n",
        "\n",
        "# Install Foldseek\n",
        "wget https://mmseqs.com/foldseek/foldseek-linux-gpu.tar.gz; tar xvfz foldseek-linux-gpu.tar.gz; export PATH=$(pwd)/foldseek/bin/:$PATH\n",
        "\n",
        "# Move weights to default path\n",
        "mv /content/model_params /content/protpardelle-1c/"
      ],
      "metadata": {
        "id": "GUd8oo1b6Fq6"
      },
      "execution_count": null,
      "outputs": []
    },
    {
      "cell_type": "code",
      "source": [
        "import os\n",
        "os.environ[\"FOLDSEEK_PATH\"] = \"/content/foldseek/bin/foldseek\""
      ],
      "metadata": {
        "id": "T0gCgBNcKsOG"
      },
      "execution_count": null,
      "outputs": []
    },
    {
      "cell_type": "markdown",
      "source": [
        "# Sampling Examples\n",
        "\n",
        "Outputs are saved under `/content/protpardelle-1c/results` by default."
      ],
      "metadata": {
        "id": "BaAgY5kgKrd-"
      }
    },
    {
      "cell_type": "code",
      "source": [
        "%%capture\n",
        "# Unconditional sampling\n",
        "!python -m protpardelle.sample /content/protpardelle-1c/examples/sampling/00_unconditional.yaml --num-samples 8 --num-mpnn-seqs 0\n"
      ],
      "metadata": {
        "id": "ys_B3Tm7PcF8"
      },
      "execution_count": null,
      "outputs": []
    },
    {
      "cell_type": "code",
      "source": [
        "%%capture\n",
        "# Partial diffusion\n",
        "!python -m protpardelle.sample /content/protpardelle-1c/examples/sampling/01_partial_diffusion.yaml --motif-dir /content/protpardelle-1c/examples/motifs/nanobody --num-samples 8 --num-mpnn-seqs 0\n"
      ],
      "metadata": {
        "id": "6Qv3tLJFPcDy"
      },
      "execution_count": null,
      "outputs": []
    },
    {
      "cell_type": "code",
      "source": [
        "%%capture\n",
        "# Motif scaffolding\n",
        "!python -m protpardelle.sample /content/protpardelle-1c/examples/sampling/02_motif_scaffolding.yaml --motif-dir /content/protpardelle-1c/examples/motifs/nanobody --num-samples 8 --num-mpnn-seqs 0\n"
      ],
      "metadata": {
        "id": "HXFTHYekPcBw"
      },
      "execution_count": null,
      "outputs": []
    },
    {
      "cell_type": "code",
      "source": [
        "%%capture\n",
        "# MotifBench benchmark\n",
        "!python -m protpardelle.sample /content/protpardelle-1c/examples/sampling/03_motifbench.yaml --motif-dir /content/protpardelle-1c/examples/motifs/motif_bench --num-samples 8 --num-mpnn-seqs 0\n"
      ],
      "metadata": {
        "id": "F08tCNKAPcBL"
      },
      "execution_count": null,
      "outputs": []
    },
    {
      "cell_type": "code",
      "source": [
        "%%capture\n",
        "# BindCraft benchmark\n",
        "!python -m protpardelle.sample /content/protpardelle-1c/examples/sampling/04_bindcraft.yaml --motif-dir /content/protpardelle-1c/examples/motifs/bindcraft/ --num-samples 8 --num-mpnn-seqs 0\n"
      ],
      "metadata": {
        "id": "-NWubECoPb87"
      },
      "execution_count": null,
      "outputs": []
    },
    {
      "cell_type": "code",
      "source": [
        "%%capture\n",
        "# Multichain\n",
        "!python -m protpardelle.sample /content/protpardelle-1c/examples/sampling/05_multichain.yaml --motif-dir /content/protpardelle-1c/examples/motifs/nanobody/ --num-samples 8 --num-mpnn-seqs 0\n"
      ],
      "metadata": {
        "id": "0U0sMlgaPb58"
      },
      "execution_count": null,
      "outputs": []
    },
    {
      "cell_type": "code",
      "source": [
        "%%capture\n",
        "# Thread in a new sequence given a backbone: experimental feature\n",
        "!python -m protpardelle.sample /content/protpardelle-1c/examples/sampling/06_fastrelax.yaml --motif-dir /content/protpardelle-1c/examples/motifs/nanobody/ --num-samples 8 --num-mpnn-seqs 0\n"
      ],
      "metadata": {
        "id": "EyY6L2_CPb2y"
      },
      "execution_count": null,
      "outputs": []
    },
    {
      "cell_type": "code",
      "source": [
        "%%capture\n",
        "# Backbone-only La-Proteina / RFdiffusion benchmark\n",
        "!python -m protpardelle.sample /content/protpardelle-1c/examples/sampling/07_rfdiffusion.yaml --motif-dir /content/protpardelle-1c/examples/motifs/rfdiffusion/ --num-samples 8 --num-mpnn-seqs 0\n"
      ],
      "metadata": {
        "id": "zyE5LL_NPbyu"
      },
      "execution_count": null,
      "outputs": []
    },
    {
      "cell_type": "code",
      "source": [
        "%%capture\n",
        "# All-atom La-Proteina / RFdiffusion benchmark\n",
        "!python -m protpardelle.sample /content/protpardelle-1c/examples/sampling/08_rfdiffusion_allatom.yaml --motif-dir /content/protpardelle-1c/examples/motifs/rfdiffusion/ --num-samples 8 --num-mpnn-seqs 0\n"
      ],
      "metadata": {
        "id": "grBAcIwVPbtV"
      },
      "execution_count": null,
      "outputs": []
    },
    {
      "cell_type": "code",
      "source": [
        "%%capture\n",
        "# Generate structure conditioned on sequence: experimental feature, useful as a decoy generator\n",
        "!python -m protpardelle.sample /content/protpardelle-1c/examples/sampling/09_structure_prediction.yaml --motif-dir /content/protpardelle-1c/examples/motifs/nanobody/ --num-samples 8 --num-mpnn-seqs 0"
      ],
      "metadata": {
        "id": "uQtu25HMLxuY"
      },
      "execution_count": null,
      "outputs": []
    },
    {
      "cell_type": "markdown",
      "source": [
        "# Visualize\n",
        "\n",
        "Code adapted from Sergey Ovchinnikov's [ESMFold Colab](https://colab.research.google.com/github/sokrypton/ColabFold/blob/main/ESMFold.ipynb)."
      ],
      "metadata": {
        "id": "kgpjE9SkPuDy"
      }
    },
    {
      "cell_type": "code",
      "source": [
        "#@title {run: \"auto\"}\n",
        "import py3Dmol\n",
        "from string import ascii_uppercase, ascii_lowercase\n",
        "\n",
        "pymol_color_list = [\"#33ff33\",\"#00ffff\",\"#ff33cc\",\"#ffff00\",\"#ff9999\",\"#e5e5e5\",\"#7f7fff\",\"#ff7f00\",\n",
        "                    \"#7fff7f\",\"#199999\",\"#ff007f\",\"#ffdd5e\",\"#8c3f99\",\"#b2b2b2\",\"#007fff\",\"#c4b200\",\n",
        "                    \"#8cb266\",\"#00bfbf\",\"#b27f7f\",\"#fcd1a5\",\"#ff7f7f\",\"#ffbfdd\",\"#7fffff\",\"#ffff7f\",\n",
        "                    \"#00ff7f\",\"#337fcc\",\"#d8337f\",\"#bfff3f\",\"#ff7fff\",\"#d8d8ff\",\"#3fffbf\",\"#b78c4c\",\n",
        "                    \"#339933\",\"#66b2b2\",\"#ba8c84\",\"#84bf00\",\"#b24c66\",\"#7f7f7f\",\"#3f3fa5\",\"#a5512b\"]\n",
        "alphabet_list = list(ascii_uppercase+ascii_lowercase)\n",
        "\n",
        "def show_pdb(pdb_str, show_sidechains=False, show_mainchains=False,\n",
        "             color=\"rainbow\", chains=None, vmin=50, vmax=90,\n",
        "             size=(800,480), hbondCutoff=4.0,\n",
        "             animate=False):\n",
        "\n",
        "  view = py3Dmol.view(js='https://3dmol.org/build/3Dmol.js', width=size[0], height=size[1])\n",
        "  if animate:\n",
        "    view.addModelsAsFrames(pdb_str,'pdb',{'hbondCutoff':hbondCutoff})\n",
        "  else:\n",
        "    view.addModel(pdb_str,'pdb',{'hbondCutoff':hbondCutoff})\n",
        "  if color == \"pLDDT\":\n",
        "    view.setStyle({'cartoon': {'colorscheme': {'prop':'b','gradient': 'roygb','min':vmin,'max':vmax}}})\n",
        "  elif color == \"rainbow\":\n",
        "    view.setStyle({'cartoon': {'color':'spectrum'}})\n",
        "  elif color == \"chain\":\n",
        "    for n,chain,color in zip(range(chains),alphabet_list,pymol_color_list):\n",
        "       view.setStyle({'chain':chain},{'cartoon': {'color':color}})\n",
        "  if show_sidechains:\n",
        "    BB = ['C','O','N']\n",
        "    view.addStyle({'and':[{'resn':[\"GLY\",\"PRO\"],'invert':True},{'atom':BB,'invert':True}]},\n",
        "                  {'stick':{'colorscheme':f\"WhiteCarbon\",'radius':0.3}})\n",
        "    view.addStyle({'and':[{'resn':\"GLY\"},{'atom':'CA'}]},\n",
        "                  {'sphere':{'colorscheme':f\"WhiteCarbon\",'radius':0.3}})\n",
        "    view.addStyle({'and':[{'resn':\"PRO\"},{'atom':['C','O'],'invert':True}]},\n",
        "                  {'stick':{'colorscheme':f\"WhiteCarbon\",'radius':0.3}})\n",
        "  if show_mainchains:\n",
        "    BB = ['C','O','N','CA']\n",
        "    view.addStyle({'atom':BB},{'stick':{'colorscheme':f\"WhiteCarbon\",'radius':0.3}})\n",
        "  view.zoomTo()\n",
        "  if animate: view.animate()\n",
        "  return view\n",
        "\n",
        "pdb_path = \"\" #@param {type:\"string\"}\n",
        "color = \"rainbow\" #@param [\"rainbow\", \"chain\"]\n",
        "show_sidechains = True #@param {type:\"boolean\"}\n",
        "show_mainchains = False #@param {type:\"boolean\"}\n",
        "\n",
        "\n",
        "pdb_str = []\n",
        "chains = set()\n",
        "with open(pdb_path, 'r') as fp:\n",
        "  for line in fp.readlines():\n",
        "    if line.startswith((\"ATOM\", \"HETATM\")) and len(line) >= 22:\n",
        "        chain_id = line[21]  # Column 22 in PDB format (0-based index 21)\n",
        "        chains.add(chain_id)\n",
        "        pdb_str.append(line.strip())\n",
        "pdb_str = '\\n'.join(pdb_str)\n",
        "num_chains = len(chains)\n",
        "\n",
        "\n",
        "show_pdb(pdb_str, color=color,\n",
        "         show_sidechains=show_sidechains,\n",
        "         show_mainchains=show_mainchains,\n",
        "         chains=num_chains).show()"
      ],
      "metadata": {
        "cellView": "form",
        "id": "h8eDEF_QPvET"
      },
      "execution_count": null,
      "outputs": []
    }
  ]
}